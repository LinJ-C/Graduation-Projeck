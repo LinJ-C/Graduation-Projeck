{
 "cells": [
  {
   "cell_type": "code",
   "execution_count": null,
   "metadata": {
    "collapsed": false
   },
   "outputs": [],
   "source": []
  },
  {
   "cell_type": "code",
   "execution_count": 52,
   "metadata": {
    "collapsed": false
   },
   "outputs": [],
   "source": []
  },
  {
   "cell_type": "code",
   "execution_count": null,
   "metadata": {
    "collapsed": true
   },
   "outputs": [],
   "source": [
    "# coding: utf-8\n",
    "from __future__ import print_function\n",
    "import numpy as np\n",
    "import matplotlib\n",
    "matplotlib.use('agg')\n",
    "import matplotlib.pyplot as plt\n",
    "import tensorflow as tf\n",
    "from tensorflow.contrib.timeseries.python.timeseries import  NumpyReader\n",
    "\n",
    "\n",
    "def main(_):\n",
    "    x = np.array(range(1000))\n",
    "    noise = np.random.uniform(-0.2, 0.2, 1000)\n",
    "    y = np.sin(np.pi * x / 100) + x / 200. + noise\n",
    "    plt.plot(x, y)\n",
    "    plt.savefig('timeseries_y.jpg')\n",
    "\n",
    "    data = {\n",
    "        tf.contrib.timeseries.TrainEvalFeatures.TIMES: x,\n",
    "        tf.contrib.timeseries.TrainEvalFeatures.VALUES: y,\n",
    "    }\n",
    "\n",
    "    reader = NumpyReader(data)\n",
    "\n",
    "    train_input_fn = tf.contrib.timeseries.RandomWindowInputFn(\n",
    "        reader, batch_size=16, window_size=40)\n",
    "\n",
    "    ar = tf.contrib.timeseries.ARRegressor(\n",
    "        periodicities=200, input_window_size=30, output_window_size=10,\n",
    "        num_features=1,\n",
    "        loss=tf.contrib.timeseries.ARModel.NORMAL_LIKELIHOOD_LOSS)\n",
    "\n",
    "    ar.train(input_fn=train_input_fn, steps=6000)\n",
    "\n",
    "    evaluation_input_fn = tf.contrib.timeseries.WholeDatasetInputFn(reader)\n",
    "   \n",
    "    evaluation = ar.evaluate(input_fn=evaluation_input_fn, steps=1)\n",
    "\n",
    "    (predictions,) = tuple(ar.predict(\n",
    "        input_fn=tf.contrib.timeseries.predict_continuation_input_fn(\n",
    "            evaluation, steps=250)))\n",
    "\n",
    "    plt.figure(figsize=(15, 5))\n",
    "    plt.plot(data['times'].reshape(-1), data['values'].reshape(-1), label='origin')\n",
    "    plt.plot(evaluation['times'].reshape(-1), evaluation['mean'].reshape(-1), label='evaluation')\n",
    "    plt.plot(predictions['times'].reshape(-1), predictions['mean'].reshape(-1), label='prediction')\n",
    "    plt.xlabel('time_step')\n",
    "    plt.ylabel('values')\n",
    "    plt.legend(loc=4)\n",
    "    plt.savefig('predict_result.jpg')\n",
    "\n",
    "\n",
    "if __name__ == '__main__':\n",
    "    tf.logging.set_verbosity(tf.logging.INFO)\n",
    "    tf.app.run()"
   ]
  }
 ],
 "metadata": {
  "kernelspec": {
   "display_name": "Python 3",
   "language": "python",
   "name": "python3"
  },
  "language_info": {
   "codemirror_mode": {
    "name": "ipython",
    "version": 3
   },
   "file_extension": ".py",
   "mimetype": "text/x-python",
   "name": "python",
   "nbconvert_exporter": "python",
   "pygments_lexer": "ipython3",
   "version": "3.6.0"
  }
 },
 "nbformat": 4,
 "nbformat_minor": 2
}
