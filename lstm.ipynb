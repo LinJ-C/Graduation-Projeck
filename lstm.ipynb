{
 "cells": [
  {
   "cell_type": "code",
   "execution_count": null,
   "metadata": {
    "collapsed": true
   },
   "outputs": [],
   "source": [
    "def build_model():\n",
    "    # input_dim是输入的train_x的最后一个维度，train_x的维度为(n_samples, time_steps, input_dim)\n",
    "    model = Sequential()\n",
    "    model.add(LSTM(input_dim=1, output_dim=50, return_sequences=True))\n",
    "    print(model.layers)\n",
    "    model.add(LSTM(100, return_sequences=False))\n",
    "    model.add(Dense(output_dim=1))\n",
    "    model.add(Activation('linear'))\n",
    "\n",
    "    model.compile(loss='mse', optimizer='rmsprop')\n",
    "    return model\n",
    "\n",
    "\n",
    "def train_model(train_x, train_y, test_x, test_y):\n",
    "    model = build_model()\n",
    "\n",
    "    try:\n",
    "        model.fit(train_x, train_y, batch_size=512, nb_epoch=30, validation_split=0.1)\n",
    "        predict = model.predict(test_x)\n",
    "        predict = np.reshape(predict, (predict.size, ))\n",
    "    except KeyboardInterrupt:\n",
    "        print(predict)\n",
    "        print(test_y)\n",
    "    print(predict)\n",
    "    print(test_y)\n",
    "    try:\n",
    "        fig = plt.figure(1)\n",
    "        plt.plot(predict, 'r:')\n",
    "        plt.plot(test_y, 'g-')\n",
    "        plt.legend(['predict', 'true'])\n",
    "    except Exception as e:\n",
    "        print(e)\n",
    "    return predict, test_y\n",
    "\n",
    "\n",
    "if __name__ == '__main__':\n",
    "    train_x, train_y, test_x, test_y, scaler = load_data('international-airline-passengers.csv')\n",
    "    train_x = np.reshape(train_x, (train_x.shape[0], train_x.shape[1], 1))\n",
    "    test_x = np.reshape(test_x, (test_x.shape[0], test_x.shape[1], 1))\n",
    "    predict_y, test_y = train_model(train_x, train_y, test_x, test_y)\n",
    "    predict_y = scaler.inverse_transform([[i] for i in predict_y])\n",
    "    test_y = scaler.inverse_transform(test_y)\n",
    "    fig2 = plt.figure(2)\n",
    "    plt.plot(predict_y, 'g:')\n",
    "    plt.plot(test_y, 'r-')\n",
    "    plt.show()"
   ]
  },
  {
   "cell_type": "code",
   "execution_count": 11,
   "metadata": {
    "collapsed": false
   },
   "outputs": [
    {
     "data": {
      "image/png": "[encoded data removed]",
      "text/plain": [
       "<matplotlib.figure.Figure at 0x22fa7e5b6d8>"
      ]
     },
     "metadata": {},
     "output_type": "display_data"
    }
   ],
   "source": [
    "import tushare as ts\n",
    "import matplotlib.pyplot as plt\n",
    "data=ts.get_hist_data('sh',ktype='d')\n",
    "data_all=data.open\n",
    "data_all=data_all.sort_index(axis=0)\n",
    "#print(data_all)\n",
    "data_all.plot()\n",
    "plt.show()\n",
    "\n",
    "    "
   ]
  },
  {
   "cell_type": "code",
   "execution_count": 12,
   "metadata": {
    "collapsed": false
   },
   "outputs": [
    {
     "name": "stderr",
     "output_type": "stream",
     "text": [
      "Using TensorFlow backend.\n"
     ]
    }
   ],
   "source": [
    "import pandas as pd\n",
    "import numpy as np\n",
    "import matplotlib.pyplot as plt\n",
    "from sklearn.preprocessing import MinMaxScaler\n",
    "from keras.models import Sequential\n",
    "from keras.layers import LSTM, Dense, Activation\n",
    "\n",
    "\n",
    "def load_data(sequence_length=10, split=0.8):\n",
    "    \n",
    "    scaler = MinMaxScaler()\n",
    "    data_all = scaler.fit_transform(data_all)\n",
    "    data_open = []\n",
    "    for i in range(len(data_all) - sequence_length - 1):\n",
    "        data_open.append(data_all[i: i + sequence_length + 1])\n",
    "    \n",
    "    reshaped_data = np.array(data).astype('float64')\n",
    "    np.random.shuffle(reshaped_data)\n",
    "    # 对x进行统一归一化，而y则不归一化\n",
    "    x = reshaped_data[:, :-1]\n",
    "    y = reshaped_data[:, -1]\n",
    "    \n",
    "    split_boundary = int(reshaped_data.shape[0] * split)\n",
    "    train_x = x[: split_boundary]\n",
    "    test_x = x[split_boundary:]\n",
    "\n",
    "    train_y = y[: split_boundary]\n",
    "    test_y = y[split_boundary:]\n",
    "\n",
    "    return train_x, train_y, test_x, test_y, scaler\n",
    "\n",
    "\n"
   ]
  },
  {
   "cell_type": "code",
   "execution_count": 22,
   "metadata": {
    "collapsed": false
   },
   "outputs": [
    {
     "name": "stdout",
     "output_type": "stream",
     "text": [
      "[3 6 9]\n",
      "[[1 2]\n",
      " [4 5]\n",
      " [7 8]]\n"
     ]
    }
   ],
   "source": [
    "arr=[[1,2,3],[4,5,6],[7,8,9]]\n",
    "arr2=np.array(arr)\n",
    "print(arr2[:,-1])\n",
    "print(arr2[:,:-1])"
   ]
  }
 ],
 "metadata": {
  "kernelspec": {
   "display_name": "Python 3",
   "language": "python",
   "name": "python3"
  },
  "language_info": {
   "codemirror_mode": {
    "name": "ipython",
    "version": 3
   },
   "file_extension": ".py",
   "mimetype": "text/x-python",
   "name": "python",
   "nbconvert_exporter": "python",
   "pygments_lexer": "ipython3",
   "version": "3.6.0"
  }
 },
 "nbformat": 4,
 "nbformat_minor": 2
}
