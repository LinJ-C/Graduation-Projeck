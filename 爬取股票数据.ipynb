{
 "cells": [
  {
   "cell_type": "markdown",
   "metadata": {
    "collapsed": false
   },
   "source": [
    "<h1>\n",
    "1.收集数据\n",
    "2.处理数据\n",
    "3.修改源码\n",
    "4.预测观察结果\n",
    "5.调整\n",
    "6.自己的想法"
   ]
  },
  {
   "cell_type": "code",
   "execution_count": null,
   "metadata": {
    "collapsed": true
   },
   "outputs": [],
   "source": [
    "#https://finance.sina.com.cn/realstock/company/sh000001/nc.shtml\n",
    "import tushare as ts\n",
    "list=[20200103,20200102,20191231,20191230,20191227,20191226,20191225,20191224,20191223,20191220,20191219,20191218,20191217,20191216,20191213,20191212,20191211,20191210,20191209,20191206,20191205,20191204,20191203,20191202,20191129,20191128,20191127,20191126,20191125,20191122,20191121,20191120,20191119,20191118,20191115,20191114,20191113,20191112,20191111,20191108]\n",
    "datalist=[]\n",
    "changelist=[]\n",
    "#for i in range(len(list)-1,-1,-1):str(list[i])\n",
    "data1=ts.get_hist_data('000001',start='2020-01-03',end='2020-01-03',ktype='5')\n",
    "#print(data1.index[-1])\n",
    "print(data1)\n",
    "#     print('开始缓存',list[i],'日的股票数据')\n",
    "#     datalist.append(data1.open[24:])\n",
    "#     changelist.append(data1.p_change[0])\n",
    "\n",
    "print(datalist)\n",
    "print(changelist)\n",
    "    \n",
    "# for each in data1.open:\n",
    "#     print(each)\n",
    "#     com=com+1\n",
    "# print(com)    \n",
    "# print(com/48)    \n",
    "# with open(\"股票数据.txt\",\"a+\",encoding='utf-8') as file:\n",
    "#     file.write(str(data1.open))\n",
    "#     file.close()\n",
    "    \n",
    "    \n",
    "    "
   ]
  },
  {
   "cell_type": "code",
   "execution_count": 89,
   "metadata": {
    "collapsed": false
   },
   "outputs": [
    {
     "ename": "SyntaxError",
     "evalue": "invalid character in identifier (<ipython-input-89-212d79447321>, line 1)",
     "output_type": "error",
     "traceback": [
      "\u001b[0;36m  File \u001b[0;32m\"<ipython-input-89-212d79447321>\"\u001b[0;36m, line \u001b[0;32m1\u001b[0m\n\u001b[0;31m    start：开始日期，格式YYYY-MM-DD\u001b[0m\n\u001b[0m                    ^\u001b[0m\n\u001b[0;31mSyntaxError\u001b[0m\u001b[0;31m:\u001b[0m invalid character in identifier\n"
     ]
    }
   ],
   "source": [
    "start：开始日期，格式YYYY-MM-DD\n",
    "end：结束日期，格式YYYY-MM-DD\n",
    "ktype：数据类型，D=日k线 W=周 M=月 5=5分钟 15=15分钟 30=30分钟 60=60分钟，默认为D\n",
    "retry_count：当网络异常后重试次数，默认为3\n",
    "pause:重试时停顿秒数，默认为0\n",
    "返回值说明：\n",
    "\n",
    "date：日期\n",
    "open：开盘价\n",
    "high：最高价\n",
    "close：收盘价\n",
    "low：最低价\n",
    "volume：成交量\n",
    "price_change：价格变动\n",
    "p_change：涨跌幅\n",
    "ma5：5日均价\n",
    "ma10：10日均价\n",
    "ma20:20日均价\n",
    "v_ma5:5日均量\n",
    "v_ma10:10日均量\n",
    "v_ma20:20日均量\n",
    "turnover:换手率[注：指数无此项]\n",
    "    \n",
    "    \n",
    "    "
   ]
  },
  {
   "cell_type": "code",
   "execution_count": 4,
   "metadata": {
    "collapsed": false
   },
   "outputs": [
    {
     "name": "stdout",
     "output_type": "stream",
     "text": [
      "504\n"
     ]
    }
   ],
   "source": [
    "import tushare as ts\n",
    "data_1=[]\n",
    "count=0\n",
    "data=ts.get_hist_data('sh',ktype='d',start='2018-01-01',end='2020-02-03')\n",
    "data_need=data['open'].tolist()\n",
    "for each in data_need:\n",
    "    data_1.append(each)\n",
    "    count=count+1\n",
    "print(count)    \n",
    "with open(\"大盘日数据.txt\",\"a+\",encoding=\"utf-8\") as file:\n",
    "    for l in data_1:\n",
    "        file.write(str(l)+'\\n')              \n",
    "    file.close()"
   ]
  },
  {
   "cell_type": "code",
   "execution_count": 3,
   "metadata": {
    "collapsed": false
   },
   "outputs": [
    {
     "name": "stdout",
     "output_type": "stream",
     "text": [
      "date\n",
      "2020-03-09 15:00:00    2943.47\n",
      "2020-03-09 14:55:00    2947.62\n",
      "2020-03-09 14:50:00    2950.67\n",
      "2020-03-09 14:45:00    2946.88\n",
      "2020-03-09 14:40:00    2954.89\n",
      "2020-03-09 14:35:00    2955.30\n",
      "2020-03-09 14:30:00    2959.42\n",
      "2020-03-09 14:25:00    2962.75\n",
      "2020-03-09 14:20:00    2967.87\n",
      "2020-03-09 14:15:00    2969.05\n",
      "2020-03-09 14:10:00    2971.37\n",
      "2020-03-09 14:05:00    2963.79\n",
      "2020-03-09 14:00:00    2959.59\n",
      "2020-03-09 13:55:00    2959.82\n",
      "2020-03-09 13:50:00    2959.54\n",
      "2020-03-09 13:45:00    2953.33\n",
      "2020-03-09 13:40:00    2947.04\n",
      "2020-03-09 13:35:00    2946.46\n",
      "2020-03-09 13:30:00    2946.81\n",
      "2020-03-09 13:25:00    2943.29\n",
      "2020-03-09 13:20:00    2952.18\n",
      "2020-03-09 13:15:00    2949.56\n",
      "2020-03-09 13:10:00    2954.21\n",
      "2020-03-09 13:05:00    2961.29\n",
      "2020-03-09 11:30:00    2962.59\n",
      "2020-03-09 11:25:00    2964.04\n",
      "2020-03-09 11:20:00    2962.27\n",
      "2020-03-09 11:15:00    2958.19\n",
      "2020-03-09 11:10:00    2959.06\n",
      "2020-03-09 11:05:00    2957.63\n",
      "2020-03-09 11:00:00    2966.69\n",
      "2020-03-09 10:55:00    2967.39\n",
      "2020-03-09 10:50:00    2965.79\n",
      "2020-03-09 10:45:00    2971.75\n",
      "2020-03-09 10:40:00    2975.18\n",
      "2020-03-09 10:35:00    2979.58\n",
      "2020-03-09 10:30:00    2976.39\n",
      "2020-03-09 10:25:00    2973.76\n",
      "2020-03-09 10:20:00    2972.13\n",
      "2020-03-09 10:15:00    2977.69\n",
      "2020-03-09 10:10:00    2978.80\n",
      "2020-03-09 10:05:00    2976.75\n",
      "2020-03-09 10:00:00    2974.11\n",
      "2020-03-09 09:55:00    2969.92\n",
      "2020-03-09 09:50:00    2969.53\n",
      "2020-03-09 09:45:00    2980.92\n",
      "2020-03-09 09:40:00    2988.78\n",
      "2020-03-09 09:35:00    2987.18\n",
      "Name: open, dtype: float64\n"
     ]
    }
   ],
   "source": [
    "import tushare as ts\n",
    "count=0\n",
    "PM_data=[]\n",
    "AM_data=[]\n",
    "pm_data=[]\n",
    "am_data=[]\n",
    "data=ts.get_hist_data('sh',ktype='5',start='2020-03-09',end='2020-03-10')\n",
    "print(data.open)\n",
    "for each in data.open:\n",
    "    count=count+1\n",
    "    if(0<count%48<24):\n",
    "        pm_data.append(each)\n",
    "    elif(count%48==0):\n",
    "        am_data.append(each)\n",
    "        AM_data.append(am_data)\n",
    "        am_data=[]\n",
    "    elif(count%48==24):\n",
    "        pm_data.append(each)\n",
    "        PM_data.append(pm_data)\n",
    "        pm_data=[]\n",
    "    else:\n",
    "        am_data.append(each)   \n",
    "with open(\"PM_5.txt\",\"a+\",encoding=\"utf-8\") as file:\n",
    "    for en in PM_data:\n",
    "        for e in en:\n",
    "            file.write(str(e)+',')\n",
    "        file.write('\\n')    \n",
    "    file.close()\n",
    "with open(\"AM_5.txt\",\"a+\",encoding=\"utf-8\") as file:\n",
    "    for en in AM_data:\n",
    "        for e in en:\n",
    "            file.write(str(e)+',')\n",
    "        file.write('\\n')    \n",
    "    file.close()"
   ]
  },
  {
   "cell_type": "code",
   "execution_count": 39,
   "metadata": {
    "collapsed": false
   },
   "outputs": [
    {
     "name": "stdout",
     "output_type": "stream",
     "text": [
      "[['2989.23,2989.83,2986.35,2984.71,2990.19,2989.88,2993.65,2990.7,2991.33,2987.9,2991.09,2996.42,2997.93,2993.76,2995.12,2995.42,2999.19,2997.49,2998.95,3000.26,3005.06,3004.76,3000.86,3004.99,'], ['2988.16,2987.79,2980.04,2991.37,2995.4,3004.64,3003.12,2996.22,3003.94,3004.92,3011.94,3008.02,3011.25,3014.75,3017.42,3015.87,3019.37,3024.94,3026.05,3022.18,3022.9,3026.68,3024.73,3022.21,'], ['3011.17,3013.29,3010.82,3014.92,3013.95,3008.85,3006.12,3000.21,2996.19,3003.78,3005.43,3001.45,2996.71,2992.61,2994.8,2991.48,2987.97,2987.63,2990.45,2983.99,2981.67,2982.26,2977.96,2970.63,'], ['3031.6,3030.04,3027.36,3032.33,3033.14,3040.61,3040.21,3033.73,3032.61,3033.5,3035.54,3033.66,3032.5,3032.16,3029.89,3028.67,3030.05,3036.34,3036.69,3034.42,3031.09,3029.44,3030.09,3029.22,'], ['3038.26,3040.9,3039.66,3035.91,3033.89,3036.92,3034.32,3038.28,3041.16,3036.94,3040.13,3035.89,3031.46,3034.52,3034.48,3044.35,3044.61,3048.12,3048.46,3051.34,3056.79,3050.42,3051.63,3044.11,'], ['3027.32,3028.61,3030.55,3028.08,3025.81,3019.34,3017.5,3012.62,3007.75,3011.63,3011.04,3013.36,3010.62,3007.2,3004.49,3002.48,3003.07,3001.02,3002.77,3006.26,2997.29,2998.48,2996.31,2989.31,'], ['2974.6,2974.16,2978.21,2980.11,2980.5,2978.7,2977.34,2972.11,2978.74,2982.88,2980.67,2987.87,2991.41,2989.2,2988.92,2988.05,2986.92,2992.92,2991.41,2991.41,2994.75,2996.44,2995.2,2994.07,']]\n"
     ]
    }
   ],
   "source": [
    "da=[]\n",
    "f = open(\"PM_5.txt\",\"r\")\n",
    "line = f.readlines()\n",
    "for en in line:\n",
    "    e=en.split('\\n')\n",
    "    del e[-1]\n",
    "    da.append(e)\n",
    "print(da)        "
   ]
  }
 ],
 "metadata": {
  "kernelspec": {
   "display_name": "Python 3",
   "language": "python",
   "name": "python3"
  },
  "language_info": {
   "codemirror_mode": {
    "name": "ipython",
    "version": 3
   },
   "file_extension": ".py",
   "mimetype": "text/x-python",
   "name": "python",
   "nbconvert_exporter": "python",
   "pygments_lexer": "ipython3",
   "version": "3.6.0"
  }
 },
 "nbformat": 4,
 "nbformat_minor": 2
}
